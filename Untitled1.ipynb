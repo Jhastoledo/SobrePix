{
 "cells": [
  {
   "cell_type": "code",
   "execution_count": 1,
   "metadata": {},
   "outputs": [],
   "source": [
    "import numpy as np\n",
    "import matplotlib.pyplot as plt"
   ]
  },
  {
   "cell_type": "code",
   "execution_count": 2,
   "metadata": {},
   "outputs": [
    {
     "data": {
      "image/png": "[encoded data removed]",
      "text/plain": [
       "<Figure size 288x288 with 1 Axes>"
      ]
     },
     "metadata": {
      "needs_background": "light"
     },
     "output_type": "display_data"
    },
    {
     "data": {
      "image/png": "[encoded data removed]",
      "text/plain": [
       "<Figure size 288x288 with 1 Axes>"
      ]
     },
     "metadata": {
      "needs_background": "light"
     },
     "output_type": "display_data"
    },
    {
     "data": {
      "image/png": "[encoded data removed]",
      "text/plain": [
       "<Figure size 288x288 with 1 Axes>"
      ]
     },
     "metadata": {
      "needs_background": "light"
     },
     "output_type": "display_data"
    }
   ],
   "source": [
    "R = np.array([\n",
    "             [1,1,1],\n",
    "             [1,1,1],\n",
    "             [1,1,1]\n",
    "    ], dtype=np.float32)\n",
    "\n",
    "G = np.array([\n",
    "             [1,1,1],\n",
    "             [1,1,1],\n",
    "             [1,1,1]\n",
    "    ], dtype=np.float32)\n",
    "\n",
    "B = np.array([\n",
    "             [1,1,1],\n",
    "             [1,1,1],\n",
    "             [1,1,1]\n",
    "    ], dtype=np.float32)\n",
    "\n",
    "M1 = np.zeros((3,3,3), dtype=np.float32)\n",
    "M2 = np.zeros((3,3,3), dtype=np.float32)\n",
    "M3 = np.zeros((3,3,3), dtype=np.float32)\n",
    "M4 = np.zeros((3,3,3), dtype=np.float32)\n",
    "M5 = np.zeros((3,3,3), dtype=np.float32)\n",
    "M6 = np.zeros((3,3,3), dtype=np.float32)\n",
    "M7 = np.zeros((3,3,3), dtype=np.float32)\n",
    "\n",
    "\n",
    "M1[:,:,0] = R\n",
    "M2[:,:,1] = G\n",
    "M3[:,:,2] = B\n",
    "\n",
    "plt.figure(figsize=(4,4))\n",
    "im = plt.imshow(M1, aspect='auto')\n",
    "plt.axis(\"off\")\n",
    "plt.show()\n",
    "\n",
    "plt.figure(figsize=(4,4))\n",
    "im = plt.imshow(M2, aspect='auto')\n",
    "plt.axis(\"off\")\n",
    "plt.show()\n",
    "\n",
    "plt.figure(figsize=(4,4))\n",
    "im = plt.imshow(M3, aspect='auto')\n",
    "plt.axis(\"off\")\n",
    "plt.show()\n",
    "\n",
    "#Apenas criei 3 matrizes para ja termos uma cor definida. Com as matrizes M1, M2 e M3 gerei as cores Vermelho, Verde e Azul."
   ]
  },
  {
   "cell_type": "code",
   "execution_count": 4,
   "metadata": {},
   "outputs": [
    {
     "data": {
      "image/png": "[encoded data removed]",
      "text/plain": [
       "<Figure size 288x288 with 1 Axes>"
      ]
     },
     "metadata": {
      "needs_background": "light"
     },
     "output_type": "display_data"
    }
   ],
   "source": [
    "M4 = M1 + M2\n",
    "\n",
    "plt.figure(figsize=(4,4))\n",
    "im = plt.imshow(M4, aspect='auto')\n",
    "plt.axis(\"off\")\n",
    "plt.show()\n",
    "\n",
    "#Sobrepus as matrizes M1 e M2 gerando a matriz M4 que forma uma matriz que gera a cor Amarela, com as seguintes camadas:\n",
    "# (1,1,0) o que resulta em rgb(255,255,0) no formato RGB. "
   ]
  },
  {
   "cell_type": "code",
   "execution_count": 5,
   "metadata": {},
   "outputs": [
    {
     "data": {
      "image/png": "[encoded data removed]",
      "text/plain": [
       "<Figure size 288x288 with 1 Axes>"
      ]
     },
     "metadata": {
      "needs_background": "light"
     },
     "output_type": "display_data"
    }
   ],
   "source": [
    "#Apenas sobrepus as matrizes M1, M2 e M3 que gerei para mostrar que através da sobreposição delas podemos gerar qualquer cor.\n",
    "\n",
    "M5 = M2 + M3\n",
    "\n",
    "plt.figure(figsize=(4,4))\n",
    "im = plt.imshow(M5, aspect='auto')\n",
    "plt.axis(\"off\")\n",
    "plt.show()"
   ]
  },
  {
   "cell_type": "code",
   "execution_count": 6,
   "metadata": {},
   "outputs": [
    {
     "data": {
      "image/png": "[encoded data removed]",
      "text/plain": [
       "<Figure size 288x288 with 1 Axes>"
      ]
     },
     "metadata": {
      "needs_background": "light"
     },
     "output_type": "display_data"
    }
   ],
   "source": [
    "M6 = M1 + M3\n",
    "\n",
    "plt.figure(figsize=(4,4))\n",
    "im = plt.imshow(M6, aspect='auto')\n",
    "plt.axis(\"off\")\n",
    "plt.show()"
   ]
  },
  {
   "cell_type": "code",
   "execution_count": 7,
   "metadata": {},
   "outputs": [
    {
     "data": {
      "image/png": "[encoded data removed]",
      "text/plain": [
       "<Figure size 288x288 with 1 Axes>"
      ]
     },
     "metadata": {
      "needs_background": "light"
     },
     "output_type": "display_data"
    }
   ],
   "source": [
    "M7 = M1 + M2 + M3\n",
    "\n",
    "plt.figure(figsize=(4,4))\n",
    "im = plt.imshow(M7, aspect='auto')\n",
    "plt.axis(\"off\")\n",
    "plt.show()\n",
    "\n",
    "#A sobreposição de todas as cores(vermelho, verde e azul) nos dá uma matriz com as camadas (1, 1 , 1) gerando a cor Branca."
   ]
  },
  {
   "cell_type": "code",
   "execution_count": null,
   "metadata": {},
   "outputs": [],
   "source": []
  }
 ],
 "metadata": {
  "kernelspec": {
   "display_name": "Python 3",
   "language": "python",
   "name": "python3"
  },
  "language_info": {
   "codemirror_mode": {
    "name": "ipython",
    "version": 3
   },
   "file_extension": ".py",
   "mimetype": "text/x-python",
   "name": "python",
   "nbconvert_exporter": "python",
   "pygments_lexer": "ipython3",
   "version": "3.7.6"
  }
 },
 "nbformat": 4,
 "nbformat_minor": 4
}
